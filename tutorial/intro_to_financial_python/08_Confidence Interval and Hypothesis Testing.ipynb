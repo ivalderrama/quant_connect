{
 "cells": [
  {
   "cell_type": "code",
   "execution_count": 1,
   "metadata": {},
   "outputs": [],
   "source": [
    "import numpy as np\n",
    "import pandas as pd\n",
    "import matplotlib.pyplot as plt\n",
    "\n",
    "import scipy.stats as st\n",
    "import quandl"
   ]
  },
  {
   "cell_type": "code",
   "execution_count": 2,
   "metadata": {},
   "outputs": [],
   "source": [
    "quandl.ApiConfig.api_key = '59jzyL6L1Q5X8VqkGpTx'"
   ]
  },
  {
   "cell_type": "code",
   "execution_count": 3,
   "metadata": {},
   "outputs": [],
   "source": [
    "aapl_table = quandl.get('WIKI/AAPL')"
   ]
  },
  {
   "cell_type": "code",
   "execution_count": 4,
   "metadata": {},
   "outputs": [
    {
     "data": {
      "text/html": [
       "<div>\n",
       "<style scoped>\n",
       "    .dataframe tbody tr th:only-of-type {\n",
       "        vertical-align: middle;\n",
       "    }\n",
       "\n",
       "    .dataframe tbody tr th {\n",
       "        vertical-align: top;\n",
       "    }\n",
       "\n",
       "    .dataframe thead th {\n",
       "        text-align: right;\n",
       "    }\n",
       "</style>\n",
       "<table border=\"1\" class=\"dataframe\">\n",
       "  <thead>\n",
       "    <tr style=\"text-align: right;\">\n",
       "      <th></th>\n",
       "      <th>Open</th>\n",
       "      <th>High</th>\n",
       "      <th>Low</th>\n",
       "      <th>Close</th>\n",
       "      <th>Volume</th>\n",
       "      <th>Ex-Dividend</th>\n",
       "      <th>Split Ratio</th>\n",
       "      <th>Adj. Open</th>\n",
       "      <th>Adj. High</th>\n",
       "      <th>Adj. Low</th>\n",
       "      <th>Adj. Close</th>\n",
       "      <th>Adj. Volume</th>\n",
       "    </tr>\n",
       "    <tr>\n",
       "      <th>Date</th>\n",
       "      <th></th>\n",
       "      <th></th>\n",
       "      <th></th>\n",
       "      <th></th>\n",
       "      <th></th>\n",
       "      <th></th>\n",
       "      <th></th>\n",
       "      <th></th>\n",
       "      <th></th>\n",
       "      <th></th>\n",
       "      <th></th>\n",
       "      <th></th>\n",
       "    </tr>\n",
       "  </thead>\n",
       "  <tbody>\n",
       "    <tr>\n",
       "      <th>2018-03-21</th>\n",
       "      <td>175.04</td>\n",
       "      <td>175.09</td>\n",
       "      <td>171.26</td>\n",
       "      <td>171.270</td>\n",
       "      <td>35247358.0</td>\n",
       "      <td>0.0</td>\n",
       "      <td>1.0</td>\n",
       "      <td>175.04</td>\n",
       "      <td>175.09</td>\n",
       "      <td>171.26</td>\n",
       "      <td>171.270</td>\n",
       "      <td>35247358.0</td>\n",
       "    </tr>\n",
       "    <tr>\n",
       "      <th>2018-03-22</th>\n",
       "      <td>170.00</td>\n",
       "      <td>172.68</td>\n",
       "      <td>168.60</td>\n",
       "      <td>168.845</td>\n",
       "      <td>41051076.0</td>\n",
       "      <td>0.0</td>\n",
       "      <td>1.0</td>\n",
       "      <td>170.00</td>\n",
       "      <td>172.68</td>\n",
       "      <td>168.60</td>\n",
       "      <td>168.845</td>\n",
       "      <td>41051076.0</td>\n",
       "    </tr>\n",
       "    <tr>\n",
       "      <th>2018-03-23</th>\n",
       "      <td>168.39</td>\n",
       "      <td>169.92</td>\n",
       "      <td>164.94</td>\n",
       "      <td>164.940</td>\n",
       "      <td>40248954.0</td>\n",
       "      <td>0.0</td>\n",
       "      <td>1.0</td>\n",
       "      <td>168.39</td>\n",
       "      <td>169.92</td>\n",
       "      <td>164.94</td>\n",
       "      <td>164.940</td>\n",
       "      <td>40248954.0</td>\n",
       "    </tr>\n",
       "    <tr>\n",
       "      <th>2018-03-26</th>\n",
       "      <td>168.07</td>\n",
       "      <td>173.10</td>\n",
       "      <td>166.44</td>\n",
       "      <td>172.770</td>\n",
       "      <td>36272617.0</td>\n",
       "      <td>0.0</td>\n",
       "      <td>1.0</td>\n",
       "      <td>168.07</td>\n",
       "      <td>173.10</td>\n",
       "      <td>166.44</td>\n",
       "      <td>172.770</td>\n",
       "      <td>36272617.0</td>\n",
       "    </tr>\n",
       "    <tr>\n",
       "      <th>2018-03-27</th>\n",
       "      <td>173.68</td>\n",
       "      <td>175.15</td>\n",
       "      <td>166.92</td>\n",
       "      <td>168.340</td>\n",
       "      <td>38962839.0</td>\n",
       "      <td>0.0</td>\n",
       "      <td>1.0</td>\n",
       "      <td>173.68</td>\n",
       "      <td>175.15</td>\n",
       "      <td>166.92</td>\n",
       "      <td>168.340</td>\n",
       "      <td>38962839.0</td>\n",
       "    </tr>\n",
       "  </tbody>\n",
       "</table>\n",
       "</div>"
      ],
      "text/plain": [
       "              Open    High     Low    Close      Volume  Ex-Dividend  \\\n",
       "Date                                                                   \n",
       "2018-03-21  175.04  175.09  171.26  171.270  35247358.0          0.0   \n",
       "2018-03-22  170.00  172.68  168.60  168.845  41051076.0          0.0   \n",
       "2018-03-23  168.39  169.92  164.94  164.940  40248954.0          0.0   \n",
       "2018-03-26  168.07  173.10  166.44  172.770  36272617.0          0.0   \n",
       "2018-03-27  173.68  175.15  166.92  168.340  38962839.0          0.0   \n",
       "\n",
       "            Split Ratio  Adj. Open  Adj. High  Adj. Low  Adj. Close  \\\n",
       "Date                                                                  \n",
       "2018-03-21          1.0     175.04     175.09    171.26     171.270   \n",
       "2018-03-22          1.0     170.00     172.68    168.60     168.845   \n",
       "2018-03-23          1.0     168.39     169.92    164.94     164.940   \n",
       "2018-03-26          1.0     168.07     173.10    166.44     172.770   \n",
       "2018-03-27          1.0     173.68     175.15    166.92     168.340   \n",
       "\n",
       "            Adj. Volume  \n",
       "Date                     \n",
       "2018-03-21   35247358.0  \n",
       "2018-03-22   41051076.0  \n",
       "2018-03-23   40248954.0  \n",
       "2018-03-26   36272617.0  \n",
       "2018-03-27   38962839.0  "
      ]
     },
     "execution_count": 4,
     "metadata": {},
     "output_type": "execute_result"
    }
   ],
   "source": [
    "aapl_table.tail()"
   ]
  },
  {
   "cell_type": "code",
   "execution_count": 5,
   "metadata": {},
   "outputs": [],
   "source": [
    "aapl_total = aapl_table[['Open', 'Close']]"
   ]
  },
  {
   "cell_type": "code",
   "execution_count": 6,
   "metadata": {},
   "outputs": [
    {
     "data": {
      "text/html": [
       "<div>\n",
       "<style scoped>\n",
       "    .dataframe tbody tr th:only-of-type {\n",
       "        vertical-align: middle;\n",
       "    }\n",
       "\n",
       "    .dataframe tbody tr th {\n",
       "        vertical-align: top;\n",
       "    }\n",
       "\n",
       "    .dataframe thead th {\n",
       "        text-align: right;\n",
       "    }\n",
       "</style>\n",
       "<table border=\"1\" class=\"dataframe\">\n",
       "  <thead>\n",
       "    <tr style=\"text-align: right;\">\n",
       "      <th></th>\n",
       "      <th>Open</th>\n",
       "      <th>Close</th>\n",
       "    </tr>\n",
       "    <tr>\n",
       "      <th>Date</th>\n",
       "      <th></th>\n",
       "      <th></th>\n",
       "    </tr>\n",
       "  </thead>\n",
       "  <tbody>\n",
       "    <tr>\n",
       "      <th>2018-03-21</th>\n",
       "      <td>175.04</td>\n",
       "      <td>171.270</td>\n",
       "    </tr>\n",
       "    <tr>\n",
       "      <th>2018-03-22</th>\n",
       "      <td>170.00</td>\n",
       "      <td>168.845</td>\n",
       "    </tr>\n",
       "    <tr>\n",
       "      <th>2018-03-23</th>\n",
       "      <td>168.39</td>\n",
       "      <td>164.940</td>\n",
       "    </tr>\n",
       "    <tr>\n",
       "      <th>2018-03-26</th>\n",
       "      <td>168.07</td>\n",
       "      <td>172.770</td>\n",
       "    </tr>\n",
       "    <tr>\n",
       "      <th>2018-03-27</th>\n",
       "      <td>173.68</td>\n",
       "      <td>168.340</td>\n",
       "    </tr>\n",
       "  </tbody>\n",
       "</table>\n",
       "</div>"
      ],
      "text/plain": [
       "              Open    Close\n",
       "Date                       \n",
       "2018-03-21  175.04  171.270\n",
       "2018-03-22  170.00  168.845\n",
       "2018-03-23  168.39  164.940\n",
       "2018-03-26  168.07  172.770\n",
       "2018-03-27  173.68  168.340"
      ]
     },
     "execution_count": 6,
     "metadata": {},
     "output_type": "execute_result"
    }
   ],
   "source": [
    "aapl_total.tail()"
   ]
  },
  {
   "cell_type": "code",
   "execution_count": 7,
   "metadata": {},
   "outputs": [],
   "source": [
    "aapl_log_return = np.log(aapl_total['Close']).diff().dropna()"
   ]
  },
  {
   "cell_type": "code",
   "execution_count": 8,
   "metadata": {},
   "outputs": [
    {
     "data": {
      "text/plain": [
       "Date\n",
       "2018-03-21   -0.022915\n",
       "2018-03-22   -0.014260\n",
       "2018-03-23   -0.023399\n",
       "2018-03-26    0.046379\n",
       "2018-03-27   -0.025975\n",
       "Name: Close, dtype: float64"
      ]
     },
     "execution_count": 8,
     "metadata": {},
     "output_type": "execute_result"
    }
   ],
   "source": [
    "aapl_log_return.tail()"
   ]
  },
  {
   "cell_type": "code",
   "execution_count": 9,
   "metadata": {},
   "outputs": [
    {
     "name": "stdout",
     "output_type": "stream",
     "text": [
      "Population mean: 0.00018803574598787862\n"
     ]
    }
   ],
   "source": [
    "print('Population mean:', np.mean(aapl_log_return))"
   ]
  },
  {
   "cell_type": "code",
   "execution_count": 10,
   "metadata": {},
   "outputs": [
    {
     "name": "stdout",
     "output_type": "stream",
     "text": [
      "Population standard deviation: 0.03737468260774587\n"
     ]
    }
   ],
   "source": [
    "print('Population standard deviation:', np.std(aapl_log_return))"
   ]
  },
  {
   "cell_type": "code",
   "execution_count": 11,
   "metadata": {},
   "outputs": [
    {
     "name": "stdout",
     "output_type": "stream",
     "text": [
      "10 days sample returns: -0.006680442654968121\n"
     ]
    }
   ],
   "source": [
    "print('10 days sample returns:', np.mean(aapl_log_return.tail(10)))"
   ]
  },
  {
   "cell_type": "code",
   "execution_count": 12,
   "metadata": {},
   "outputs": [
    {
     "name": "stdout",
     "output_type": "stream",
     "text": [
      "10 days sample standard deviation: 0.019948507891523214\n"
     ]
    }
   ],
   "source": [
    "print('10 days sample standard deviation:', np.std(aapl_log_return.tail(10)))"
   ]
  },
  {
   "cell_type": "code",
   "execution_count": 13,
   "metadata": {},
   "outputs": [
    {
     "name": "stdout",
     "output_type": "stream",
     "text": [
      "1000 days sample returns: -0.001163340140818109\n"
     ]
    }
   ],
   "source": [
    "print('1000 days sample returns:', np.mean(aapl_log_return.tail(1000)))"
   ]
  },
  {
   "cell_type": "code",
   "execution_count": 14,
   "metadata": {},
   "outputs": [
    {
     "name": "stdout",
     "output_type": "stream",
     "text": [
      "1000 days sample standard deviation: 0.06269581584713586\n"
     ]
    }
   ],
   "source": [
    "print('1000 days sample standard deviation:', np.std(aapl_log_return.tail(1000)))"
   ]
  },
  {
   "cell_type": "code",
   "execution_count": 15,
   "metadata": {},
   "outputs": [],
   "source": [
    "bottom_1 = np.mean(aapl_log_return.tail(10))-1.96*np.std(aapl_log_return.tail(10))/(np.sqrt(len((aapl_log_return.tail(10)))))\n",
    "upper_1 = np.mean(aapl_log_return.tail(10))+1.96*np.std(aapl_log_return.tail(10))/(np.sqrt(len((aapl_log_return.tail(10)))))\n",
    "\n",
    "bottom_2 = np.mean(aapl_log_return.tail(1000))-1.96*np.std(aapl_log_return.tail(1000))/(np.sqrt(len((aapl_log_return.tail(1000)))))\n",
    "upper_2 = np.mean(aapl_log_return.tail(1000))+1.96*np.std(aapl_log_return.tail(1000))/(np.sqrt(len((aapl_log_return.tail(1000)))))\n"
   ]
  },
  {
   "cell_type": "code",
   "execution_count": 16,
   "metadata": {},
   "outputs": [
    {
     "name": "stdout",
     "output_type": "stream",
     "text": [
      "10 days 95% confidence inverval: (-0.01904465594334319, 0.005683770633406946)\n"
     ]
    }
   ],
   "source": [
    "print('10 days 95% confidence inverval:', (bottom_1,upper_1))"
   ]
  },
  {
   "cell_type": "code",
   "execution_count": 17,
   "metadata": {},
   "outputs": [
    {
     "name": "stdout",
     "output_type": "stream",
     "text": [
      "1000 days 95% confidence inverval: (-0.005049267066470906, 0.0027225867848346876)\n"
     ]
    }
   ],
   "source": [
    "print('1000 days 95% confidence inverval:', (bottom_2,upper_2))"
   ]
  },
  {
   "cell_type": "code",
   "execution_count": null,
   "metadata": {},
   "outputs": [],
   "source": []
  },
  {
   "cell_type": "code",
   "execution_count": 18,
   "metadata": {},
   "outputs": [],
   "source": [
    "# Hypothesis testing"
   ]
  },
  {
   "cell_type": "code",
   "execution_count": 19,
   "metadata": {},
   "outputs": [
    {
     "name": "stdout",
     "output_type": "stream",
     "text": [
      "mean_10     -0.006680\n",
      "std_10       0.019949\n",
      "mean_1000   -0.001163\n",
      "std_1000     0.062696\n",
      "dtype: float64\n"
     ]
    }
   ],
   "source": [
    "mean_1000 = np.mean(aapl_log_return.tail(1000))\n",
    "std_1000 = np.std(aapl_log_return.tail(1000))\n",
    "mean_10 = np.mean(aapl_log_return.tail(10))\n",
    "std_10 = np.std(aapl_log_return.tail(10))\n",
    "\n",
    "s = pd.Series([mean_10, std_10, mean_1000, std_1000], index=['mean_10', 'std_10','mean_1000','std_1000'])\n",
    "print(s)"
   ]
  },
  {
   "cell_type": "code",
   "execution_count": 20,
   "metadata": {},
   "outputs": [
    {
     "name": "stdout",
     "output_type": "stream",
     "text": [
      "-0.0032514898765666255 0.0032514898765666255\n"
     ]
    }
   ],
   "source": [
    "# 90% confidence interval\n",
    "\n",
    "bottom = 0 - 1.64 * std_1000/np.sqrt(1000)\n",
    "upper = 0 + 1.64 * std_1000/np.sqrt(1000)\n",
    "\n",
    "print(bottom, upper)"
   ]
  },
  {
   "cell_type": "code",
   "execution_count": 21,
   "metadata": {},
   "outputs": [
    {
     "name": "stdout",
     "output_type": "stream",
     "text": [
      "-0.0038859269256527967 0.0038859269256527967\n"
     ]
    }
   ],
   "source": [
    "# 95% confidence interval\n",
    "\n",
    "bottom = 0 - 1.96 * std_1000/np.sqrt(1000)\n",
    "upper = 0 + 1.96 * std_1000/np.sqrt(1000)\n",
    "\n",
    "print(bottom, upper)"
   ]
  },
  {
   "cell_type": "code",
   "execution_count": 22,
   "metadata": {},
   "outputs": [
    {
     "name": "stdout",
     "output_type": "stream",
     "text": [
      "-0.5867703432484006\n"
     ]
    }
   ],
   "source": [
    "# Z-score\n",
    "\n",
    "print(np.sqrt(1000)*(mean_1000 - 0)/std_1000)"
   ]
  },
  {
   "cell_type": "code",
   "execution_count": 23,
   "metadata": {},
   "outputs": [
    {
     "name": "stdout",
     "output_type": "stream",
     "text": [
      "0.02565965688799665\n"
     ]
    }
   ],
   "source": [
    "print(1 - st.norm.cdf(1.9488))"
   ]
  },
  {
   "cell_type": "code",
   "execution_count": 24,
   "metadata": {},
   "outputs": [
    {
     "name": "stdout",
     "output_type": "stream",
     "text": [
      "z-score =  -0.4723030820553395\n"
     ]
    }
   ],
   "source": [
    "mean_1200 = np.mean(aapl_log_return.tail(1200))\n",
    "std_1200 = np.std(aapl_log_return.tail(1200))\n",
    "z_score = np.sqrt(1200)*(mean_1200 - 0)/std_1200\n",
    "\n",
    "print('z-score = ', z_score)"
   ]
  },
  {
   "cell_type": "code",
   "execution_count": 25,
   "metadata": {},
   "outputs": [
    {
     "name": "stdout",
     "output_type": "stream",
     "text": [
      "p_value =  0.6816447646119563\n"
     ]
    }
   ],
   "source": [
    "p_value = (1 - st.norm.cdf(z_score))\n",
    "\n",
    "print('p_value = ', p_value)"
   ]
  },
  {
   "cell_type": "code",
   "execution_count": null,
   "metadata": {},
   "outputs": [],
   "source": []
  }
 ],
 "metadata": {
  "kernelspec": {
   "display_name": "Python 3",
   "language": "python",
   "name": "python3"
  },
  "language_info": {
   "codemirror_mode": {
    "name": "ipython",
    "version": 3
   },
   "file_extension": ".py",
   "mimetype": "text/x-python",
   "name": "python",
   "nbconvert_exporter": "python",
   "pygments_lexer": "ipython3",
   "version": "3.7.2"
  }
 },
 "nbformat": 4,
 "nbformat_minor": 2
}
